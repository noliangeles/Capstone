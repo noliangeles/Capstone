{
 "cells": [
  {
   "cell_type": "code",
   "execution_count": 3,
   "id": "c7dc0453",
   "metadata": {},
   "outputs": [],
   "source": [
    "# Import basic libraries... you might need to type 'pip install <library>' in the terminal to install them\n",
    "import pandas as pd\n",
    "import numpy as np\n",
    "import matplotlib.pyplot as plt\n",
    "import seaborn as sns"
   ]
  },
  {
   "cell_type": "code",
   "execution_count": 4,
   "id": "5a5fec8a",
   "metadata": {},
   "outputs": [],
   "source": [
    "# Import the libraries for the machine learning model\n",
    "from sklearn.model_selection import train_test_split\n",
    "from sklearn.preprocessing import OrdinalEncoder, OneHotEncoder, LabelEncoder #encoding variables\n",
    "from sklearn.compose import ColumnTransformer\n",
    "from sklearn.naive_bayes import CategoricalNB # creates the NB model\n",
    "from sklearn.naive_bayes import MultinomialNB\n",
    "from sklearn.metrics import accuracy_score # to compute accuracy score\n",
    "from sklearn.metrics import confusion_matrix, ConfusionMatrixDisplay, classification_report # confusion matrix as a heatmap\n",
    "from sklearn.model_selection import cross_val_score # for cross-validation\n",
    "from sklearn.neighbors import KNeighborsClassifier # for KNN model\n",
    "from sklearn.tree import DecisionTreeClassifier # classification tree model\n",
    "from sklearn.pipeline import Pipeline\n",
    "from sklearn.metrics import roc_curve, roc_auc_score"
   ]
  },
  {
   "cell_type": "code",
   "execution_count": 5,
   "id": "32ae9c73",
   "metadata": {},
   "outputs": [],
   "source": [
    "# display all columns in the dataframe\n",
    "pd.options.display.max_columns = None"
   ]
  },
  {
   "cell_type": "code",
   "execution_count": 4,
   "id": "cb859a25",
   "metadata": {},
   "outputs": [
    {
     "name": "stdout",
     "output_type": "stream",
     "text": [
      "<bound method NDFrame.head of        age gender security_no region_category  membership_category  \\\n",
      "0       18      F     XW0DQ7H         Village  Platinum Membership   \n",
      "1       32      F     5K0N3X1            City   Premium Membership   \n",
      "2       44      F     1F2TCL3            Town        No Membership   \n",
      "3       37      M     VJGJ33N            City        No Membership   \n",
      "4       31      F     SVZXCWB            City        No Membership   \n",
      "...    ...    ...         ...             ...                  ...   \n",
      "36987   46      F     6F51HFO            Town     Basic Membership   \n",
      "36988   29      F     21KSM8Y            Town     Basic Membership   \n",
      "36989   23      F     XK1IM9H            Town     Basic Membership   \n",
      "36990   53      M     K6VTP1Z         Village  Platinum Membership   \n",
      "36991   35      M     LBX0GLR            Town    Silver Membership   \n",
      "\n",
      "      joining_date joined_through_referral referral_id  \\\n",
      "0       2017-08-17                      No    xxxxxxxx   \n",
      "1       2017-08-28                     Yes    CID21329   \n",
      "2              NaN                     Yes    CID12313   \n",
      "3       2016-10-29                     Yes     CID3793   \n",
      "4              NaN                      No    xxxxxxxx   \n",
      "...            ...                     ...         ...   \n",
      "36987   2017-09-21                      No    xxxxxxxx   \n",
      "36988   2016-06-27                      No    xxxxxxxx   \n",
      "36989          NaN                     Yes     CID3838   \n",
      "36990   2017-06-15                      No    xxxxxxxx   \n",
      "36991   2015-10-23                      No    xxxxxxxx   \n",
      "\n",
      "          preferred_offer_types medium_of_operation internet_option  \\\n",
      "0         Gift Vouchers/Coupons             Desktop           Wi-Fi   \n",
      "1         Gift Vouchers/Coupons             Desktop     Mobile_Data   \n",
      "2         Gift Vouchers/Coupons             Desktop           Wi-Fi   \n",
      "3         Gift Vouchers/Coupons             Desktop     Mobile_Data   \n",
      "4      Credit/Debit Card Offers          Smartphone     Mobile_Data   \n",
      "...                         ...                 ...             ...   \n",
      "36987  Credit/Debit Card Offers             Desktop           Wi-Fi   \n",
      "36988            Without Offers          Smartphone           Wi-Fi   \n",
      "36989     Gift Vouchers/Coupons             Desktop           Wi-Fi   \n",
      "36990     Gift Vouchers/Coupons          Smartphone     Mobile_Data   \n",
      "36991     Gift Vouchers/Coupons             Desktop     Mobile_Data   \n",
      "\n",
      "      last_visit_time  days_since_last_login  avg_time_spent  \\\n",
      "0            16:08:02                   17.0          300.63   \n",
      "1            12:38:13                   16.0          306.34   \n",
      "2            22:53:21                   14.0          516.16   \n",
      "3            15:57:50                   11.0           53.27   \n",
      "4            15:46:44                   20.0          113.13   \n",
      "...               ...                    ...             ...   \n",
      "36987         4:14:05                    2.0          174.18   \n",
      "36988        23:18:31                   13.0          174.18   \n",
      "36989         3:50:25                   12.0          154.94   \n",
      "36990         9:50:03                   15.0          482.61   \n",
      "36991         1:39:52                   15.0           79.18   \n",
      "\n",
      "       avg_transaction_value  avg_frequency_login_days  points_in_wallet  \\\n",
      "0                   53005.25                      17.0        781.750000   \n",
      "1                   12838.38                      10.0        698.250000   \n",
      "2                   21027.00                      22.0        500.690000   \n",
      "3                   25239.56                       6.0        567.660000   \n",
      "4                   24483.66                      16.0        663.060000   \n",
      "...                      ...                       ...               ...   \n",
      "36987               27277.68                       6.0        639.510000   \n",
      "36988               11069.71                      28.0        527.990000   \n",
      "36989               38127.56                      16.0        680.470000   \n",
      "36990                2378.86                      20.0        197.264414   \n",
      "36991                2189.68                      16.0        719.970000   \n",
      "\n",
      "      used_special_discount offer_application_preference past_complaint  \\\n",
      "0                       Yes                          Yes             No   \n",
      "1                       Yes                           No            Yes   \n",
      "2                        No                          Yes            Yes   \n",
      "3                        No                          Yes            Yes   \n",
      "4                        No                          Yes            Yes   \n",
      "...                     ...                          ...            ...   \n",
      "36987                    No                          Yes            Yes   \n",
      "36988                   Yes                           No             No   \n",
      "36989                    No                          Yes            Yes   \n",
      "36990                   Yes                          Yes             No   \n",
      "36991                   Yes                           No             No   \n",
      "\n",
      "               complaint_status                  feedback  churn_risk_score  \\\n",
      "0                Not Applicable  Products always in Stock                 0   \n",
      "1                        Solved     Quality Customer Care                 0   \n",
      "2           Solved in Follow-up              Poor Website                 1   \n",
      "3                      Unsolved              Poor Website                 1   \n",
      "4                        Solved              Poor Website                 1   \n",
      "...                         ...                       ...               ...   \n",
      "36987  No Information Available       No reason specified                 1   \n",
      "36988            Not Applicable     Poor Customer Service                 1   \n",
      "36989                  Unsolved              Poor Website                 1   \n",
      "36990            Not Applicable       No reason specified                 0   \n",
      "36991            Not Applicable     Quality Customer Care                 0   \n",
      "\n",
      "       had_complaint  engagement_score membership_grouped  \n",
      "0                  0       5892.460000               Paid  \n",
      "1                  1       3761.650000               Paid  \n",
      "2                  1      11856.210000                NaN  \n",
      "3                  1        887.280000                NaN  \n",
      "4                  1       2473.140000                NaN  \n",
      "...              ...               ...                ...  \n",
      "36987              1       1684.590000              Basic  \n",
      "36988              0       5405.030000              Basic  \n",
      "36989              1       3159.510000              Basic  \n",
      "36990              0       9849.464414               Paid  \n",
      "36991              0       1986.850000               Paid  \n",
      "\n",
      "[36992 rows x 26 columns]>\n"
     ]
    }
   ],
   "source": [
    "### load the clean churn dataset\n",
    "\n",
    "df = pd.read_csv('churn_cleaned.csv')\n",
    "\n",
    "print(df.head)"
   ]
  },
  {
   "cell_type": "markdown",
   "id": "522de838",
   "metadata": {},
   "source": [
    "### More Data Cleaning"
   ]
  },
  {
   "cell_type": "code",
   "execution_count": 7,
   "id": "2ab3e90b",
   "metadata": {},
   "outputs": [
    {
     "data": {
      "text/plain": [
       "age                               int64\n",
       "gender                           object\n",
       "region_category                  object\n",
       "membership_category              object\n",
       "joined_through_referral          object\n",
       "preferred_offer_types            object\n",
       "medium_of_operation              object\n",
       "internet_option                  object\n",
       "days_since_last_login           float64\n",
       "avg_time_spent                  float64\n",
       "avg_transaction_value           float64\n",
       "avg_frequency_login_days        float64\n",
       "points_in_wallet                float64\n",
       "used_special_discount            object\n",
       "offer_application_preference     object\n",
       "past_complaint                   object\n",
       "complaint_status                 object\n",
       "feedback                         object\n",
       "churn_risk_score                  int64\n",
       "had_complaint                     int64\n",
       "engagement_score                float64\n",
       "membership_grouped               object\n",
       "dtype: object"
      ]
     },
     "execution_count": 7,
     "metadata": {},
     "output_type": "execute_result"
    }
   ],
   "source": [
    "df.dtypes"
   ]
  },
  {
   "cell_type": "code",
   "execution_count": 6,
   "id": "66238a5d",
   "metadata": {},
   "outputs": [],
   "source": [
    "### further cleaning: drop the columns that are not needed for the model\n",
    "df.drop('security_no', axis=1, inplace=True) # drop the security note column\n",
    "df.drop('referral_id', axis=1, inplace=True) # drop the referral id column\n",
    "df.drop('joining_date', axis=1, inplace=True) # drop the join date column\n",
    "df.drop('last_visit_time', axis=1, inplace=True) # drop the last visit time column"
   ]
  },
  {
   "cell_type": "code",
   "execution_count": 9,
   "id": "9265de2d",
   "metadata": {},
   "outputs": [],
   "source": [
    "df['membership_grouped'] = df['membership_grouped'].fillna('No Membership') # fill the missing values in the membership_grouped column with 'No Membership'"
   ]
  },
  {
   "cell_type": "code",
   "execution_count": 10,
   "id": "65dd1a29",
   "metadata": {},
   "outputs": [],
   "source": [
    "### download updated cleaned dataset (dropped columns)\n",
    "df.to_csv('churn_cleaned_updated1.csv', index=False) # save the updated cleaned dataset"
   ]
  },
  {
   "cell_type": "code",
   "execution_count": 6,
   "id": "e3a9aef7",
   "metadata": {},
   "outputs": [
    {
     "name": "stdout",
     "output_type": "stream",
     "text": [
      "<bound method NDFrame.head of        age gender region_category  membership_category  \\\n",
      "0       18      F         Village  Platinum Membership   \n",
      "1       32      F            City   Premium Membership   \n",
      "2       44      F            Town        No Membership   \n",
      "3       37      M            City        No Membership   \n",
      "4       31      F            City        No Membership   \n",
      "...    ...    ...             ...                  ...   \n",
      "36987   46      F            Town     Basic Membership   \n",
      "36988   29      F            Town     Basic Membership   \n",
      "36989   23      F            Town     Basic Membership   \n",
      "36990   53      M         Village  Platinum Membership   \n",
      "36991   35      M            Town    Silver Membership   \n",
      "\n",
      "      joined_through_referral     preferred_offer_types medium_of_operation  \\\n",
      "0                          No     Gift Vouchers/Coupons             Desktop   \n",
      "1                         Yes     Gift Vouchers/Coupons             Desktop   \n",
      "2                         Yes     Gift Vouchers/Coupons             Desktop   \n",
      "3                         Yes     Gift Vouchers/Coupons             Desktop   \n",
      "4                          No  Credit/Debit Card Offers          Smartphone   \n",
      "...                       ...                       ...                 ...   \n",
      "36987                      No  Credit/Debit Card Offers             Desktop   \n",
      "36988                      No            Without Offers          Smartphone   \n",
      "36989                     Yes     Gift Vouchers/Coupons             Desktop   \n",
      "36990                      No     Gift Vouchers/Coupons          Smartphone   \n",
      "36991                      No     Gift Vouchers/Coupons             Desktop   \n",
      "\n",
      "      internet_option  days_since_last_login  avg_time_spent  \\\n",
      "0               Wi-Fi                   17.0          300.63   \n",
      "1         Mobile_Data                   16.0          306.34   \n",
      "2               Wi-Fi                   14.0          516.16   \n",
      "3         Mobile_Data                   11.0           53.27   \n",
      "4         Mobile_Data                   20.0          113.13   \n",
      "...               ...                    ...             ...   \n",
      "36987           Wi-Fi                    2.0          174.18   \n",
      "36988           Wi-Fi                   13.0          174.18   \n",
      "36989           Wi-Fi                   12.0          154.94   \n",
      "36990     Mobile_Data                   15.0          482.61   \n",
      "36991     Mobile_Data                   15.0           79.18   \n",
      "\n",
      "       avg_transaction_value  avg_frequency_login_days  points_in_wallet  \\\n",
      "0                   53005.25                      17.0        781.750000   \n",
      "1                   12838.38                      10.0        698.250000   \n",
      "2                   21027.00                      22.0        500.690000   \n",
      "3                   25239.56                       6.0        567.660000   \n",
      "4                   24483.66                      16.0        663.060000   \n",
      "...                      ...                       ...               ...   \n",
      "36987               27277.68                       6.0        639.510000   \n",
      "36988               11069.71                      28.0        527.990000   \n",
      "36989               38127.56                      16.0        680.470000   \n",
      "36990                2378.86                      20.0        197.264414   \n",
      "36991                2189.68                      16.0        719.970000   \n",
      "\n",
      "      used_special_discount offer_application_preference past_complaint  \\\n",
      "0                       Yes                          Yes             No   \n",
      "1                       Yes                           No            Yes   \n",
      "2                        No                          Yes            Yes   \n",
      "3                        No                          Yes            Yes   \n",
      "4                        No                          Yes            Yes   \n",
      "...                     ...                          ...            ...   \n",
      "36987                    No                          Yes            Yes   \n",
      "36988                   Yes                           No             No   \n",
      "36989                    No                          Yes            Yes   \n",
      "36990                   Yes                          Yes             No   \n",
      "36991                   Yes                           No             No   \n",
      "\n",
      "               complaint_status                  feedback  churn_risk_score  \\\n",
      "0                Not Applicable  Products always in Stock                 0   \n",
      "1                        Solved     Quality Customer Care                 0   \n",
      "2           Solved in Follow-up              Poor Website                 1   \n",
      "3                      Unsolved              Poor Website                 1   \n",
      "4                        Solved              Poor Website                 1   \n",
      "...                         ...                       ...               ...   \n",
      "36987  No Information Available       No reason specified                 1   \n",
      "36988            Not Applicable     Poor Customer Service                 1   \n",
      "36989                  Unsolved              Poor Website                 1   \n",
      "36990            Not Applicable       No reason specified                 0   \n",
      "36991            Not Applicable     Quality Customer Care                 0   \n",
      "\n",
      "       had_complaint  engagement_score membership_grouped  \n",
      "0                  0       5892.460000               Paid  \n",
      "1                  1       3761.650000               Paid  \n",
      "2                  1      11856.210000      No Membership  \n",
      "3                  1        887.280000      No Membership  \n",
      "4                  1       2473.140000      No Membership  \n",
      "...              ...               ...                ...  \n",
      "36987              1       1684.590000              Basic  \n",
      "36988              0       5405.030000              Basic  \n",
      "36989              1       3159.510000              Basic  \n",
      "36990              0       9849.464414               Paid  \n",
      "36991              0       1986.850000               Paid  \n",
      "\n",
      "[36992 rows x 22 columns]>\n"
     ]
    }
   ],
   "source": [
    "df_clean = pd.read_csv('churn_cleaned_updated1.csv')\n",
    "\n",
    "print(df_clean.head)"
   ]
  },
  {
   "cell_type": "code",
   "execution_count": 7,
   "id": "bf29e939",
   "metadata": {},
   "outputs": [
    {
     "name": "stdout",
     "output_type": "stream",
     "text": [
      "age                             0\n",
      "gender                          0\n",
      "region_category                 0\n",
      "membership_category             0\n",
      "joined_through_referral         0\n",
      "preferred_offer_types           0\n",
      "medium_of_operation             0\n",
      "internet_option                 0\n",
      "days_since_last_login           0\n",
      "avg_time_spent                  0\n",
      "avg_transaction_value           0\n",
      "avg_frequency_login_days        0\n",
      "points_in_wallet                0\n",
      "used_special_discount           0\n",
      "offer_application_preference    0\n",
      "past_complaint                  0\n",
      "complaint_status                0\n",
      "feedback                        0\n",
      "churn_risk_score                0\n",
      "had_complaint                   0\n",
      "engagement_score                0\n",
      "membership_grouped              0\n",
      "dtype: int64\n"
     ]
    }
   ],
   "source": [
    "# check for missing values\n",
    "print(df_clean.isnull().sum())"
   ]
  },
  {
   "cell_type": "code",
   "execution_count": 8,
   "id": "6a5db8c3",
   "metadata": {},
   "outputs": [
    {
     "data": {
      "text/plain": [
       "age                               int64\n",
       "gender                           object\n",
       "region_category                  object\n",
       "membership_category              object\n",
       "joined_through_referral          object\n",
       "preferred_offer_types            object\n",
       "medium_of_operation              object\n",
       "internet_option                  object\n",
       "days_since_last_login           float64\n",
       "avg_time_spent                  float64\n",
       "avg_transaction_value           float64\n",
       "avg_frequency_login_days        float64\n",
       "points_in_wallet                float64\n",
       "used_special_discount            object\n",
       "offer_application_preference     object\n",
       "past_complaint                   object\n",
       "complaint_status                 object\n",
       "feedback                         object\n",
       "churn_risk_score                  int64\n",
       "had_complaint                     int64\n",
       "engagement_score                float64\n",
       "membership_grouped               object\n",
       "dtype: object"
      ]
     },
     "execution_count": 8,
     "metadata": {},
     "output_type": "execute_result"
    }
   ],
   "source": [
    "df_clean.dtypes"
   ]
  },
  {
   "cell_type": "code",
   "execution_count": 9,
   "id": "81d703d6",
   "metadata": {},
   "outputs": [
    {
     "name": "stdout",
     "output_type": "stream",
     "text": [
      "['Products always in Stock' 'Quality Customer Care' 'Poor Website'\n",
      " 'No reason specified' 'Poor Product Quality' 'Poor Customer Service'\n",
      " 'Too many ads' 'User Friendly Website' 'Reasonable Price']\n"
     ]
    }
   ],
   "source": [
    "unique_values = df_clean['feedback'].unique()\n",
    "print(unique_values)"
   ]
  },
  {
   "cell_type": "markdown",
   "id": "544e7220",
   "metadata": {},
   "source": [
    "## Split Dataset into Train/Test Set\n"
   ]
  },
  {
   "cell_type": "code",
   "execution_count": 10,
   "id": "c3d263fb",
   "metadata": {},
   "outputs": [
    {
     "name": "stdout",
     "output_type": "stream",
     "text": [
      "(29593, 21)\n",
      "(7399, 21)\n",
      "(29593,)\n",
      "(7399,)\n"
     ]
    }
   ],
   "source": [
    "### Split the dataset into features and target variable\n",
    "X = df_clean.drop(['churn_risk_score'], axis=1) # drop target variable\n",
    "y = df_clean['churn_risk_score'] # target variable\n",
    "\n",
    "### split the dataset into training and testing sets\n",
    "X_train, X_test, y_train, y_test = train_test_split(X, y, test_size=0.2, random_state=456) # 80% training and 20% testing\n",
    "\n",
    "# check the dimension of the train and test sets\n",
    "print(X_train.shape)\n",
    "print(X_test.shape)\n",
    "\n",
    "print(y_train.shape)\n",
    "print(y_test.shape)"
   ]
  },
  {
   "cell_type": "markdown",
   "id": "cbe4980b",
   "metadata": {},
   "source": [
    "### Check training data set"
   ]
  },
  {
   "cell_type": "code",
   "execution_count": 11,
   "id": "206c6364",
   "metadata": {},
   "outputs": [
    {
     "data": {
      "text/html": [
       "<div>\n",
       "<style scoped>\n",
       "    .dataframe tbody tr th:only-of-type {\n",
       "        vertical-align: middle;\n",
       "    }\n",
       "\n",
       "    .dataframe tbody tr th {\n",
       "        vertical-align: top;\n",
       "    }\n",
       "\n",
       "    .dataframe thead th {\n",
       "        text-align: right;\n",
       "    }\n",
       "</style>\n",
       "<table border=\"1\" class=\"dataframe\">\n",
       "  <thead>\n",
       "    <tr style=\"text-align: right;\">\n",
       "      <th></th>\n",
       "      <th>age</th>\n",
       "      <th>gender</th>\n",
       "      <th>region_category</th>\n",
       "      <th>membership_category</th>\n",
       "      <th>joined_through_referral</th>\n",
       "      <th>preferred_offer_types</th>\n",
       "      <th>medium_of_operation</th>\n",
       "      <th>internet_option</th>\n",
       "      <th>days_since_last_login</th>\n",
       "      <th>avg_time_spent</th>\n",
       "      <th>avg_transaction_value</th>\n",
       "      <th>avg_frequency_login_days</th>\n",
       "      <th>points_in_wallet</th>\n",
       "      <th>used_special_discount</th>\n",
       "      <th>offer_application_preference</th>\n",
       "      <th>past_complaint</th>\n",
       "      <th>complaint_status</th>\n",
       "      <th>feedback</th>\n",
       "      <th>had_complaint</th>\n",
       "      <th>engagement_score</th>\n",
       "      <th>membership_grouped</th>\n",
       "    </tr>\n",
       "  </thead>\n",
       "  <tbody>\n",
       "    <tr>\n",
       "      <th>18705</th>\n",
       "      <td>40</td>\n",
       "      <td>F</td>\n",
       "      <td>City</td>\n",
       "      <td>Premium Membership</td>\n",
       "      <td>Yes</td>\n",
       "      <td>Credit/Debit Card Offers</td>\n",
       "      <td>Smartphone</td>\n",
       "      <td>Mobile_Data</td>\n",
       "      <td>9.0</td>\n",
       "      <td>73.730000</td>\n",
       "      <td>24481.62</td>\n",
       "      <td>11.0</td>\n",
       "      <td>795.54</td>\n",
       "      <td>Yes</td>\n",
       "      <td>No</td>\n",
       "      <td>Yes</td>\n",
       "      <td>Solved</td>\n",
       "      <td>Poor Customer Service</td>\n",
       "      <td>1</td>\n",
       "      <td>1606.570000</td>\n",
       "      <td>Paid</td>\n",
       "    </tr>\n",
       "    <tr>\n",
       "      <th>4090</th>\n",
       "      <td>30</td>\n",
       "      <td>M</td>\n",
       "      <td>Town</td>\n",
       "      <td>Gold Membership</td>\n",
       "      <td>Yes</td>\n",
       "      <td>Credit/Debit Card Offers</td>\n",
       "      <td>Smartphone</td>\n",
       "      <td>Fiber_Optic</td>\n",
       "      <td>24.0</td>\n",
       "      <td>67.780000</td>\n",
       "      <td>25327.02</td>\n",
       "      <td>29.0</td>\n",
       "      <td>767.36</td>\n",
       "      <td>No</td>\n",
       "      <td>Yes</td>\n",
       "      <td>No</td>\n",
       "      <td>Not Applicable</td>\n",
       "      <td>Poor Customer Service</td>\n",
       "      <td>0</td>\n",
       "      <td>2732.980000</td>\n",
       "      <td>Paid</td>\n",
       "    </tr>\n",
       "    <tr>\n",
       "      <th>5483</th>\n",
       "      <td>55</td>\n",
       "      <td>M</td>\n",
       "      <td>City</td>\n",
       "      <td>Gold Membership</td>\n",
       "      <td>Yes</td>\n",
       "      <td>Without Offers</td>\n",
       "      <td>Desktop</td>\n",
       "      <td>Wi-Fi</td>\n",
       "      <td>19.0</td>\n",
       "      <td>671.200000</td>\n",
       "      <td>40148.94</td>\n",
       "      <td>10.0</td>\n",
       "      <td>615.13</td>\n",
       "      <td>Yes</td>\n",
       "      <td>No</td>\n",
       "      <td>Yes</td>\n",
       "      <td>Unsolved</td>\n",
       "      <td>No reason specified</td>\n",
       "      <td>1</td>\n",
       "      <td>7327.130000</td>\n",
       "      <td>Paid</td>\n",
       "    </tr>\n",
       "    <tr>\n",
       "      <th>3181</th>\n",
       "      <td>13</td>\n",
       "      <td>F</td>\n",
       "      <td>Town</td>\n",
       "      <td>Platinum Membership</td>\n",
       "      <td>No</td>\n",
       "      <td>Credit/Debit Card Offers</td>\n",
       "      <td>Desktop</td>\n",
       "      <td>Fiber_Optic</td>\n",
       "      <td>22.0</td>\n",
       "      <td>116.400000</td>\n",
       "      <td>25344.91</td>\n",
       "      <td>5.0</td>\n",
       "      <td>728.26</td>\n",
       "      <td>No</td>\n",
       "      <td>Yes</td>\n",
       "      <td>Yes</td>\n",
       "      <td>Solved in Follow-up</td>\n",
       "      <td>No reason specified</td>\n",
       "      <td>1</td>\n",
       "      <td>1310.260000</td>\n",
       "      <td>Paid</td>\n",
       "    </tr>\n",
       "    <tr>\n",
       "      <th>1928</th>\n",
       "      <td>30</td>\n",
       "      <td>F</td>\n",
       "      <td>Town</td>\n",
       "      <td>Gold Membership</td>\n",
       "      <td>Yes</td>\n",
       "      <td>Gift Vouchers/Coupons</td>\n",
       "      <td>Both</td>\n",
       "      <td>Mobile_Data</td>\n",
       "      <td>9.0</td>\n",
       "      <td>1989.348334</td>\n",
       "      <td>18998.02</td>\n",
       "      <td>12.0</td>\n",
       "      <td>779.87</td>\n",
       "      <td>Yes</td>\n",
       "      <td>No</td>\n",
       "      <td>No</td>\n",
       "      <td>Not Applicable</td>\n",
       "      <td>Poor Product Quality</td>\n",
       "      <td>0</td>\n",
       "      <td>24652.050008</td>\n",
       "      <td>Paid</td>\n",
       "    </tr>\n",
       "  </tbody>\n",
       "</table>\n",
       "</div>"
      ],
      "text/plain": [
       "       age gender region_category  membership_category  \\\n",
       "18705   40      F            City   Premium Membership   \n",
       "4090    30      M            Town      Gold Membership   \n",
       "5483    55      M            City      Gold Membership   \n",
       "3181    13      F            Town  Platinum Membership   \n",
       "1928    30      F            Town      Gold Membership   \n",
       "\n",
       "      joined_through_referral     preferred_offer_types medium_of_operation  \\\n",
       "18705                     Yes  Credit/Debit Card Offers          Smartphone   \n",
       "4090                      Yes  Credit/Debit Card Offers          Smartphone   \n",
       "5483                      Yes            Without Offers             Desktop   \n",
       "3181                       No  Credit/Debit Card Offers             Desktop   \n",
       "1928                      Yes     Gift Vouchers/Coupons                Both   \n",
       "\n",
       "      internet_option  days_since_last_login  avg_time_spent  \\\n",
       "18705     Mobile_Data                    9.0       73.730000   \n",
       "4090      Fiber_Optic                   24.0       67.780000   \n",
       "5483            Wi-Fi                   19.0      671.200000   \n",
       "3181      Fiber_Optic                   22.0      116.400000   \n",
       "1928      Mobile_Data                    9.0     1989.348334   \n",
       "\n",
       "       avg_transaction_value  avg_frequency_login_days  points_in_wallet  \\\n",
       "18705               24481.62                      11.0            795.54   \n",
       "4090                25327.02                      29.0            767.36   \n",
       "5483                40148.94                      10.0            615.13   \n",
       "3181                25344.91                       5.0            728.26   \n",
       "1928                18998.02                      12.0            779.87   \n",
       "\n",
       "      used_special_discount offer_application_preference past_complaint  \\\n",
       "18705                   Yes                           No            Yes   \n",
       "4090                     No                          Yes             No   \n",
       "5483                    Yes                           No            Yes   \n",
       "3181                     No                          Yes            Yes   \n",
       "1928                    Yes                           No             No   \n",
       "\n",
       "          complaint_status               feedback  had_complaint  \\\n",
       "18705               Solved  Poor Customer Service              1   \n",
       "4090        Not Applicable  Poor Customer Service              0   \n",
       "5483              Unsolved    No reason specified              1   \n",
       "3181   Solved in Follow-up    No reason specified              1   \n",
       "1928        Not Applicable   Poor Product Quality              0   \n",
       "\n",
       "       engagement_score membership_grouped  \n",
       "18705       1606.570000               Paid  \n",
       "4090        2732.980000               Paid  \n",
       "5483        7327.130000               Paid  \n",
       "3181        1310.260000               Paid  \n",
       "1928       24652.050008               Paid  "
      ]
     },
     "execution_count": 11,
     "metadata": {},
     "output_type": "execute_result"
    }
   ],
   "source": [
    "# check X training data\n",
    "X_train.head(5)"
   ]
  },
  {
   "cell_type": "code",
   "execution_count": 12,
   "id": "55d77399",
   "metadata": {},
   "outputs": [
    {
     "data": {
      "text/plain": [
       "18705    0\n",
       "4090     0\n",
       "5483     1\n",
       "3181     0\n",
       "1928     0\n",
       "Name: churn_risk_score, dtype: int64"
      ]
     },
     "execution_count": 12,
     "metadata": {},
     "output_type": "execute_result"
    }
   ],
   "source": [
    "# check y training data\n",
    "y_train.head(5)"
   ]
  },
  {
   "cell_type": "markdown",
   "id": "22f14e8d",
   "metadata": {},
   "source": [
    "### Check test data set"
   ]
  },
  {
   "cell_type": "code",
   "execution_count": 13,
   "id": "0076e870",
   "metadata": {},
   "outputs": [
    {
     "data": {
      "text/html": [
       "<div>\n",
       "<style scoped>\n",
       "    .dataframe tbody tr th:only-of-type {\n",
       "        vertical-align: middle;\n",
       "    }\n",
       "\n",
       "    .dataframe tbody tr th {\n",
       "        vertical-align: top;\n",
       "    }\n",
       "\n",
       "    .dataframe thead th {\n",
       "        text-align: right;\n",
       "    }\n",
       "</style>\n",
       "<table border=\"1\" class=\"dataframe\">\n",
       "  <thead>\n",
       "    <tr style=\"text-align: right;\">\n",
       "      <th></th>\n",
       "      <th>age</th>\n",
       "      <th>gender</th>\n",
       "      <th>region_category</th>\n",
       "      <th>membership_category</th>\n",
       "      <th>joined_through_referral</th>\n",
       "      <th>preferred_offer_types</th>\n",
       "      <th>medium_of_operation</th>\n",
       "      <th>internet_option</th>\n",
       "      <th>days_since_last_login</th>\n",
       "      <th>avg_time_spent</th>\n",
       "      <th>avg_transaction_value</th>\n",
       "      <th>avg_frequency_login_days</th>\n",
       "      <th>points_in_wallet</th>\n",
       "      <th>used_special_discount</th>\n",
       "      <th>offer_application_preference</th>\n",
       "      <th>past_complaint</th>\n",
       "      <th>complaint_status</th>\n",
       "      <th>feedback</th>\n",
       "      <th>had_complaint</th>\n",
       "      <th>engagement_score</th>\n",
       "      <th>membership_grouped</th>\n",
       "    </tr>\n",
       "  </thead>\n",
       "  <tbody>\n",
       "    <tr>\n",
       "      <th>7754</th>\n",
       "      <td>38</td>\n",
       "      <td>M</td>\n",
       "      <td>Town</td>\n",
       "      <td>No Membership</td>\n",
       "      <td>Yes</td>\n",
       "      <td>Gift Vouchers/Coupons</td>\n",
       "      <td>Smartphone</td>\n",
       "      <td>Fiber_Optic</td>\n",
       "      <td>8.0</td>\n",
       "      <td>135.09</td>\n",
       "      <td>36266.92</td>\n",
       "      <td>8.0</td>\n",
       "      <td>507.630000</td>\n",
       "      <td>No</td>\n",
       "      <td>Yes</td>\n",
       "      <td>No</td>\n",
       "      <td>Not Applicable</td>\n",
       "      <td>Poor Customer Service</td>\n",
       "      <td>0</td>\n",
       "      <td>1588.350000</td>\n",
       "      <td>No Membership</td>\n",
       "    </tr>\n",
       "    <tr>\n",
       "      <th>14087</th>\n",
       "      <td>16</td>\n",
       "      <td>F</td>\n",
       "      <td>Town</td>\n",
       "      <td>Basic Membership</td>\n",
       "      <td>Yes</td>\n",
       "      <td>Gift Vouchers/Coupons</td>\n",
       "      <td>Desktop</td>\n",
       "      <td>Fiber_Optic</td>\n",
       "      <td>23.0</td>\n",
       "      <td>32.78</td>\n",
       "      <td>15936.68</td>\n",
       "      <td>7.0</td>\n",
       "      <td>563.670000</td>\n",
       "      <td>No</td>\n",
       "      <td>Yes</td>\n",
       "      <td>Yes</td>\n",
       "      <td>Solved</td>\n",
       "      <td>Poor Website</td>\n",
       "      <td>1</td>\n",
       "      <td>793.130000</td>\n",
       "      <td>Basic</td>\n",
       "    </tr>\n",
       "    <tr>\n",
       "      <th>32638</th>\n",
       "      <td>32</td>\n",
       "      <td>F</td>\n",
       "      <td>City</td>\n",
       "      <td>No Membership</td>\n",
       "      <td>Yes</td>\n",
       "      <td>Gift Vouchers/Coupons</td>\n",
       "      <td>Desktop</td>\n",
       "      <td>Mobile_Data</td>\n",
       "      <td>15.0</td>\n",
       "      <td>116.68</td>\n",
       "      <td>871.64</td>\n",
       "      <td>16.0</td>\n",
       "      <td>651.780000</td>\n",
       "      <td>Yes</td>\n",
       "      <td>No</td>\n",
       "      <td>Yes</td>\n",
       "      <td>Solved in Follow-up</td>\n",
       "      <td>Poor Product Quality</td>\n",
       "      <td>1</td>\n",
       "      <td>2518.660000</td>\n",
       "      <td>No Membership</td>\n",
       "    </tr>\n",
       "    <tr>\n",
       "      <th>8028</th>\n",
       "      <td>29</td>\n",
       "      <td>M</td>\n",
       "      <td>City</td>\n",
       "      <td>No Membership</td>\n",
       "      <td>Yes</td>\n",
       "      <td>Gift Vouchers/Coupons</td>\n",
       "      <td>Smartphone</td>\n",
       "      <td>Wi-Fi</td>\n",
       "      <td>13.0</td>\n",
       "      <td>631.86</td>\n",
       "      <td>26931.73</td>\n",
       "      <td>15.0</td>\n",
       "      <td>604.740000</td>\n",
       "      <td>Yes</td>\n",
       "      <td>Yes</td>\n",
       "      <td>No</td>\n",
       "      <td>Not Applicable</td>\n",
       "      <td>Poor Customer Service</td>\n",
       "      <td>0</td>\n",
       "      <td>10082.640000</td>\n",
       "      <td>No Membership</td>\n",
       "    </tr>\n",
       "    <tr>\n",
       "      <th>18446</th>\n",
       "      <td>56</td>\n",
       "      <td>F</td>\n",
       "      <td>Town</td>\n",
       "      <td>Gold Membership</td>\n",
       "      <td>Yes</td>\n",
       "      <td>Gift Vouchers/Coupons</td>\n",
       "      <td>Desktop</td>\n",
       "      <td>Wi-Fi</td>\n",
       "      <td>17.0</td>\n",
       "      <td>1445.35</td>\n",
       "      <td>15880.33</td>\n",
       "      <td>20.0</td>\n",
       "      <td>901.416552</td>\n",
       "      <td>Yes</td>\n",
       "      <td>No</td>\n",
       "      <td>Yes</td>\n",
       "      <td>Solved in Follow-up</td>\n",
       "      <td>Poor Website</td>\n",
       "      <td>1</td>\n",
       "      <td>29808.416552</td>\n",
       "      <td>Paid</td>\n",
       "    </tr>\n",
       "  </tbody>\n",
       "</table>\n",
       "</div>"
      ],
      "text/plain": [
       "       age gender region_category membership_category joined_through_referral  \\\n",
       "7754    38      M            Town       No Membership                     Yes   \n",
       "14087   16      F            Town    Basic Membership                     Yes   \n",
       "32638   32      F            City       No Membership                     Yes   \n",
       "8028    29      M            City       No Membership                     Yes   \n",
       "18446   56      F            Town     Gold Membership                     Yes   \n",
       "\n",
       "       preferred_offer_types medium_of_operation internet_option  \\\n",
       "7754   Gift Vouchers/Coupons          Smartphone     Fiber_Optic   \n",
       "14087  Gift Vouchers/Coupons             Desktop     Fiber_Optic   \n",
       "32638  Gift Vouchers/Coupons             Desktop     Mobile_Data   \n",
       "8028   Gift Vouchers/Coupons          Smartphone           Wi-Fi   \n",
       "18446  Gift Vouchers/Coupons             Desktop           Wi-Fi   \n",
       "\n",
       "       days_since_last_login  avg_time_spent  avg_transaction_value  \\\n",
       "7754                     8.0          135.09               36266.92   \n",
       "14087                   23.0           32.78               15936.68   \n",
       "32638                   15.0          116.68                 871.64   \n",
       "8028                    13.0          631.86               26931.73   \n",
       "18446                   17.0         1445.35               15880.33   \n",
       "\n",
       "       avg_frequency_login_days  points_in_wallet used_special_discount  \\\n",
       "7754                        8.0        507.630000                    No   \n",
       "14087                       7.0        563.670000                    No   \n",
       "32638                      16.0        651.780000                   Yes   \n",
       "8028                       15.0        604.740000                   Yes   \n",
       "18446                      20.0        901.416552                   Yes   \n",
       "\n",
       "      offer_application_preference past_complaint     complaint_status  \\\n",
       "7754                           Yes             No       Not Applicable   \n",
       "14087                          Yes            Yes               Solved   \n",
       "32638                           No            Yes  Solved in Follow-up   \n",
       "8028                           Yes             No       Not Applicable   \n",
       "18446                           No            Yes  Solved in Follow-up   \n",
       "\n",
       "                    feedback  had_complaint  engagement_score  \\\n",
       "7754   Poor Customer Service              0       1588.350000   \n",
       "14087           Poor Website              1        793.130000   \n",
       "32638   Poor Product Quality              1       2518.660000   \n",
       "8028   Poor Customer Service              0      10082.640000   \n",
       "18446           Poor Website              1      29808.416552   \n",
       "\n",
       "      membership_grouped  \n",
       "7754       No Membership  \n",
       "14087              Basic  \n",
       "32638      No Membership  \n",
       "8028       No Membership  \n",
       "18446               Paid  "
      ]
     },
     "execution_count": 13,
     "metadata": {},
     "output_type": "execute_result"
    }
   ],
   "source": [
    "# check x test data\n",
    "X_test.head(5)"
   ]
  },
  {
   "cell_type": "code",
   "execution_count": 14,
   "id": "1dbfa5f5",
   "metadata": {},
   "outputs": [
    {
     "data": {
      "text/plain": [
       "7754     1\n",
       "14087    1\n",
       "32638    1\n",
       "8028     1\n",
       "18446    0\n",
       "Name: churn_risk_score, dtype: int64"
      ]
     },
     "execution_count": 14,
     "metadata": {},
     "output_type": "execute_result"
    }
   ],
   "source": [
    "# check y test data\n",
    "y_test.head(5)"
   ]
  },
  {
   "cell_type": "markdown",
   "id": "a5b4c9e3",
   "metadata": {},
   "source": [
    "### Check proportions to see if they're balanced"
   ]
  },
  {
   "cell_type": "code",
   "execution_count": 15,
   "id": "043ae92c",
   "metadata": {},
   "outputs": [
    {
     "data": {
      "text/plain": [
       "churn_risk_score\n",
       "1    0.539891\n",
       "0    0.460109\n",
       "Name: proportion, dtype: float64"
      ]
     },
     "execution_count": 15,
     "metadata": {},
     "output_type": "execute_result"
    }
   ],
   "source": [
    "# proportion of churn risk in the training set\n",
    "y_train.value_counts(normalize=True)"
   ]
  },
  {
   "cell_type": "code",
   "execution_count": 16,
   "id": "5ef063a4",
   "metadata": {},
   "outputs": [
    {
     "data": {
      "text/plain": [
       "churn_risk_score\n",
       "1    0.545344\n",
       "0    0.454656\n",
       "Name: proportion, dtype: float64"
      ]
     },
     "execution_count": 16,
     "metadata": {},
     "output_type": "execute_result"
    }
   ],
   "source": [
    "# proportion of churn risk in the test set\n",
    "y_test.value_counts(normalize=True)"
   ]
  },
  {
   "cell_type": "code",
   "execution_count": 17,
   "id": "f23c9140",
   "metadata": {},
   "outputs": [
    {
     "data": {
      "text/plain": [
       "churn_risk_score\n",
       "1    0.540982\n",
       "0    0.459018\n",
       "Name: proportion, dtype: float64"
      ]
     },
     "execution_count": 17,
     "metadata": {},
     "output_type": "execute_result"
    }
   ],
   "source": [
    "# proportion of churn risk in original dataset before train/test split\n",
    "df_clean['churn_risk_score'].value_counts(normalize=True)"
   ]
  },
  {
   "cell_type": "markdown",
   "id": "4da9c056",
   "metadata": {},
   "source": [
    "### Separate Column Types"
   ]
  },
  {
   "cell_type": "code",
   "execution_count": 18,
   "id": "f649a31a",
   "metadata": {},
   "outputs": [
    {
     "data": {
      "text/plain": [
       "(['age',\n",
       "  'days_since_last_login',\n",
       "  'avg_time_spent',\n",
       "  'avg_transaction_value',\n",
       "  'avg_frequency_login_days',\n",
       "  'points_in_wallet',\n",
       "  'had_complaint',\n",
       "  'engagement_score'],\n",
       " ['gender',\n",
       "  'region_category',\n",
       "  'membership_category',\n",
       "  'joined_through_referral',\n",
       "  'preferred_offer_types',\n",
       "  'medium_of_operation',\n",
       "  'internet_option',\n",
       "  'used_special_discount',\n",
       "  'offer_application_preference',\n",
       "  'past_complaint',\n",
       "  'complaint_status',\n",
       "  'feedback',\n",
       "  'membership_grouped'])"
      ]
     },
     "execution_count": 18,
     "metadata": {},
     "output_type": "execute_result"
    }
   ],
   "source": [
    "num_cols = X_train.select_dtypes(include=['int64', 'float64']).columns.tolist()\n",
    "cat_cols = X_train.select_dtypes(include=['object']).columns.tolist()\n",
    "\n",
    "num_cols, cat_cols"
   ]
  },
  {
   "cell_type": "markdown",
   "id": "3d0053c8",
   "metadata": {},
   "source": [
    "## Encoding categorical variables\n",
    "- target variable (LabelEncoder() for all models)\n",
    "- categorical predictor variables\n",
    "    - OrdinalEncoder() (Naive Bayes and Classification Tree)\n",
    "    - OneHotEncoder() (KNN)"
   ]
  },
  {
   "cell_type": "markdown",
   "id": "e5957e65",
   "metadata": {},
   "source": [
    "### Encode Target Variable for all models"
   ]
  },
  {
   "cell_type": "code",
   "execution_count": 19,
   "id": "5c0a55db",
   "metadata": {},
   "outputs": [],
   "source": [
    "### initialize encoder for simpler coding\n",
    "le = LabelEncoder()\n",
    "\n",
    "### fit and transform on training data\n",
    "y_train_enc = le.fit_transform(y_train)\n",
    "\n",
    "### transform test target variable\n",
    "y_test_enc = le.transform(y_test)"
   ]
  },
  {
   "cell_type": "markdown",
   "id": "910b4b0f",
   "metadata": {},
   "source": [
    "### Preprocess (encode) features/predictor variables for Classification Tree using `OrdinalEncoder`"
   ]
  },
  {
   "cell_type": "code",
   "execution_count": 20,
   "id": "1f303734",
   "metadata": {},
   "outputs": [],
   "source": [
    "### define preprocessors for categorical and numerical features (CLASSIFICATION TREE ONLY)\n",
    "ordinal_preprocessor = ColumnTransformer([\n",
    "    ('ordinal', OrdinalEncoder(), cat_cols),\n",
    "    ('pass', 'passthrough', num_cols)\n",
    "])"
   ]
  },
  {
   "cell_type": "markdown",
   "id": "fa6f657c",
   "metadata": {},
   "source": [
    "### Preprocess Features for KNN and NB (Multinomial) Using `OneHotEncoder`"
   ]
  },
  {
   "cell_type": "code",
   "execution_count": 21,
   "id": "1192a323",
   "metadata": {},
   "outputs": [],
   "source": [
    "### define preprocessors for categorical and numerical features\n",
    "onehot_preprocessor = ColumnTransformer([\n",
    "    ('onehot', OneHotEncoder(handle_unknown='ignore', sparse=False), cat_cols),\n",
    "    ('pass', 'passthrough', num_cols)\n",
    "])"
   ]
  },
  {
   "cell_type": "markdown",
   "id": "927f7179",
   "metadata": {},
   "source": [
    "### Plug each preprocessor into their model pipelines"
   ]
  },
  {
   "cell_type": "code",
   "execution_count": 22,
   "id": "bd585dcd",
   "metadata": {},
   "outputs": [],
   "source": [
    "# Naive Bayes pipeline\n",
    "nb_pipeline = Pipeline([\n",
    "    ('preprocess', onehot_preprocessor),\n",
    "    ('model', MultinomialNB())\n",
    "])\n",
    "\n",
    "# KNN pipeline\n",
    "knn_pipeline = Pipeline([\n",
    "    ('preprocess', onehot_preprocessor),\n",
    "    ('model', KNeighborsClassifier(n_neighbors=5))\n",
    "])\n",
    "\n",
    "# Decision Tree pipeline\n",
    "tree_pipeline = Pipeline([\n",
    "    ('preprocess', ordinal_preprocessor),\n",
    "    ('model', DecisionTreeClassifier(random_state=42))\n",
    "])"
   ]
  },
  {
   "cell_type": "markdown",
   "id": "368d69ad",
   "metadata": {},
   "source": [
    "## Methods"
   ]
  },
  {
   "cell_type": "markdown",
   "id": "dd5bca80",
   "metadata": {},
   "source": [
    "### Naive Bayes Classifier Model"
   ]
  },
  {
   "cell_type": "code",
   "execution_count": null,
   "id": "e3245e43",
   "metadata": {},
   "outputs": [
    {
     "name": "stdout",
     "output_type": "stream",
     "text": [
      "Naive Bayes (Multinomial) Report:\n",
      "\n",
      "              precision    recall  f1-score   support\n",
      "\n",
      "           0       0.49      0.62      0.55      3364\n",
      "           1       0.60      0.47      0.52      4035\n",
      "\n",
      "    accuracy                           0.54      7399\n",
      "   macro avg       0.54      0.54      0.54      7399\n",
      "weighted avg       0.55      0.54      0.53      7399\n",
      "\n"
     ]
    }
   ],
   "source": [
    "### fit the model\n",
    "nb_pipeline.fit(X_train, y_train_enc)\n",
    "\n",
    "### predict on the test set\n",
    "nb_pipeline.fit(X_train, y_train_enc)\n",
    "\n",
    "### predict and evaluate the model\n",
    "nb_preds = nb_pipeline.predict(X_test)\n",
    "print(\"Naive Bayes (Multinomial) Report:\\n\")\n",
    "print(classification_report(y_test_enc, nb_preds))\n",
    "\n",
    "### put it in a nice table\n"
   ]
  },
  {
   "cell_type": "code",
   "execution_count": 24,
   "id": "b5292c7d",
   "metadata": {},
   "outputs": [
    {
     "data": {
      "image/png": "[encoded data removed]",
      "text/plain": [
       "<Figure size 432x288 with 2 Axes>"
      ]
     },
     "metadata": {
      "needs_background": "light"
     },
     "output_type": "display_data"
    }
   ],
   "source": [
    "### confusion matrix\n",
    "cm_nb = confusion_matrix(y_test_enc, nb_preds)\n",
    "disp = ConfusionMatrixDisplay(confusion_matrix=cm_nb, display_labels=le.classes_)\n",
    "disp.plot(cmap='Blues')\n",
    "plt.title('Decision Tree - Confusion Matrix')\n",
    "plt.show()"
   ]
  },
  {
   "cell_type": "code",
   "execution_count": 28,
   "id": "045ce249",
   "metadata": {},
   "outputs": [
    {
     "name": "stdout",
     "output_type": "stream",
     "text": [
      "Naive Bayes CV Accuracy: 0.5330\n"
     ]
    }
   ],
   "source": [
    "### cross validation\n",
    "cv_nb = cross_val_score(nb_pipeline, X, le.transform(y), cv=5, scoring='accuracy')\n",
    "print(f\"Naive Bayes CV Accuracy: {cv_nb.mean():.4f}\")\n"
   ]
  },
  {
   "cell_type": "code",
   "execution_count": 26,
   "id": "ad0e950b",
   "metadata": {},
   "outputs": [
    {
     "data": {
      "image/png": "[encoded data removed]",
      "text/plain": [
       "<Figure size 432x288 with 1 Axes>"
      ]
     },
     "metadata": {
      "needs_background": "light"
     },
     "output_type": "display_data"
    }
   ],
   "source": [
    "### AUC ROC curve\n",
    "# get predicted probabilities for class 1 (churn = 1)\n",
    "nb_probs = nb_pipeline.predict_proba(X_test)[:, 1]\n",
    "\n",
    "# compute ROC curve and AUC\n",
    "fpr, tpr, thresholds = roc_curve(y_test_enc, nb_probs)\n",
    "auc_score = roc_auc_score(y_test_enc, nb_probs)\n",
    "\n",
    "# plot ROC\n",
    "plt.figure(figsize=(6, 4))\n",
    "plt.plot(fpr, tpr, label=f'Naive Bayes (AUC = {auc_score:.2f})')\n",
    "plt.plot([0, 1], [0, 1], linestyle='--', color='gray')\n",
    "plt.xlabel('False Positive Rate')\n",
    "plt.ylabel('True Positive Rate')\n",
    "plt.title('ROC Curve - Naive Bayes')\n",
    "plt.legend()\n",
    "plt.grid(True)\n",
    "plt.tight_layout()\n",
    "plt.show()"
   ]
  },
  {
   "cell_type": "markdown",
   "id": "437c02e8",
   "metadata": {},
   "source": [
    "### KNN Model"
   ]
  },
  {
   "cell_type": "markdown",
   "id": "78cc6b49",
   "metadata": {},
   "source": [
    "### Classification Tree Model"
   ]
  }
 ],
 "metadata": {
  "kernelspec": {
   "display_name": "base",
   "language": "python",
   "name": "python3"
  },
  "language_info": {
   "codemirror_mode": {
    "name": "ipython",
    "version": 3
   },
   "file_extension": ".py",
   "mimetype": "text/x-python",
   "name": "python",
   "nbconvert_exporter": "python",
   "pygments_lexer": "ipython3",
   "version": "3.8.8"
  }
 },
 "nbformat": 4,
 "nbformat_minor": 5
}
